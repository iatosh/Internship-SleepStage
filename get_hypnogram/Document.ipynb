{
 "cells": [
  {
   "cell_type": "markdown",
   "metadata": {},
   "source": [
    "# 公式ドキュメントの手法\n",
    "周波数バンド: デフォルト\n",
    "|name|frequency[Hz]|\n",
    "|---|---|\n",
    "|delta|0.5-4.5|\n",
    "|theta|4.5-8.5|\n",
    "|alpha|8.5-11.5|\n",
    "|sigma|11.5-15.5|\n",
    "|beta|15.5-30|"
   ]
  },
  {
   "cell_type": "code",
   "execution_count": 1,
   "metadata": {},
   "outputs": [],
   "source": [
    "import numpy as np\n",
    "import re\n",
    "import mne\n",
    "import yasa\n",
    "from mne.datasets.sleep_physionet.age import fetch_data\n",
    "from mne.time_frequency import psd_welch\n",
    "\n",
    "from sklearn.ensemble import RandomForestClassifier\n",
    "from sklearn.metrics import accuracy_score\n",
    "from sklearn.pipeline import make_pipeline\n",
    "from sklearn.preprocessing import FunctionTransformer"
   ]
  },
  {
   "cell_type": "code",
   "execution_count": 2,
   "metadata": {},
   "outputs": [],
   "source": [
    "annotation_desc_2_event_id = {'Sleep stage W': 1,\n",
    "                              'Sleep stage 1': 2,\n",
    "                              'Sleep stage 2': 3,\n",
    "                              'Sleep stage 3': 4,\n",
    "                              'Sleep stage 4': 4,\n",
    "                              'Sleep stage R': 5}\n",
    "\n",
    "event_id = {'Sleep stage W': 1,\n",
    "            'Sleep stage 1': 2,\n",
    "            'Sleep stage 2': 3,\n",
    "            'Sleep stage 3/4': 4,\n",
    "            'Sleep stage R': 5}"
   ]
  },
  {
   "cell_type": "markdown",
   "metadata": {},
   "source": [
    "### データの用意\n",
    "\n",
    "ALICE: 訓練データ  \n",
    "BOB: 推定対象データ  "
   ]
  },
  {
   "cell_type": "code",
   "execution_count": 3,
   "metadata": {},
   "outputs": [
    {
     "name": "stdout",
     "output_type": "stream",
     "text": [
      "Using default location ~/mne_data for PHYSIONET_SLEEP...\n",
      "Extracting EDF parameters from /net/nfs/home/imamura22/mne_data/physionet-sleep-data/SC4001E0-PSG.edf...\n",
      "EDF file detected\n",
      "Setting channel info structure...\n",
      "Creating raw.info structure...\n"
     ]
    }
   ],
   "source": [
    "# ここの0や1の数字を変えることで、対象データを変更\n",
    "#  3 -> SC4031E0-PSG.edf\n",
    "# 21 -> SC4211E0-PSG.edf\n",
    "ALICE, BOB = 0, 14\n",
    "\n",
    "[alice_files, bob_files] = fetch_data(subjects=[ALICE, BOB], recording=[1])\n",
    "\n",
    "raw_train = mne.io.read_raw_edf(alice_files[0],\n",
    "                                stim_channel='Event marker',\n",
    "                                misc=['Temp rectal'])\n",
    "\n",
    "annot_train = mne.read_annotations(alice_files[1])"
   ]
  },
  {
   "cell_type": "markdown",
   "metadata": {},
   "source": [
    "### データの事前処理"
   ]
  },
  {
   "cell_type": "code",
   "execution_count": 4,
   "metadata": {},
   "outputs": [
    {
     "name": "stdout",
     "output_type": "stream",
     "text": [
      "Used Annotations descriptions: ['Sleep stage 1', 'Sleep stage 2', 'Sleep stage 3', 'Sleep stage 4', 'Sleep stage R', 'Sleep stage W']\n",
      "Not setting metadata\n",
      "841 matching events found\n",
      "No baseline correction applied\n",
      "0 projection items activated\n"
     ]
    }
   ],
   "source": [
    "# keep last 30-min wake events before sleep and first 30-min wake events after\n",
    "# sleep and redefine annotations on raw data\n",
    "annot_train.crop(annot_train[1]['onset'] - 30 * 60,\n",
    "                 annot_train[-2]['onset'] + 30 * 60)\n",
    "\n",
    "raw_train.set_annotations(annot_train, emit_warning=False)\n",
    "\n",
    "events_train, _ = mne.events_from_annotations(raw_train,\n",
    "                                              event_id=annotation_desc_2_event_id,\n",
    "                                              chunk_duration=30.)\n",
    "\n",
    "tmax = 30. - 1. / raw_train.info['sfreq']  # tmax in included\n",
    "\n",
    "epochs_train = mne.Epochs(raw=raw_train,\n",
    "                          events=events_train,\n",
    "                          event_id=event_id,\n",
    "                          tmin=0.,\n",
    "                          tmax=tmax,\n",
    "                          baseline=None)"
   ]
  },
  {
   "cell_type": "markdown",
   "metadata": {},
   "source": [
    "### 推定対象データにも同様に事前処理を行う"
   ]
  },
  {
   "cell_type": "code",
   "execution_count": 5,
   "metadata": {},
   "outputs": [
    {
     "name": "stdout",
     "output_type": "stream",
     "text": [
      "Extracting EDF parameters from /net/nfs/home/imamura22/mne_data/physionet-sleep-data/SC4141E0-PSG.edf...\n",
      "EDF file detected\n",
      "Setting channel info structure...\n",
      "Creating raw.info structure...\n",
      "Used Annotations descriptions: ['Sleep stage 1', 'Sleep stage 2', 'Sleep stage 3', 'Sleep stage 4', 'Sleep stage R', 'Sleep stage W']\n",
      "Not setting metadata\n",
      "1004 matching events found\n",
      "No baseline correction applied\n",
      "0 projection items activated\n"
     ]
    }
   ],
   "source": [
    "raw_test = mne.io.read_raw_edf(bob_files[0],\n",
    "                               stim_channel='Event marker',\n",
    "                               misc=['Temp rectal'])\n",
    "\n",
    "annot_test = mne.read_annotations(bob_files[1])\n",
    "\n",
    "annot_test.crop(annot_test[1]['onset'] - 30 * 60,\n",
    "                annot_test[-2]['onset'] + 30 * 60)\n",
    "\n",
    "raw_test.set_annotations(annot_test, emit_warning=False)\n",
    "\n",
    "events_test, _ = mne.events_from_annotations(raw_test,\n",
    "                                             event_id=annotation_desc_2_event_id,\n",
    "                                             chunk_duration=30.)\n",
    "\n",
    "epochs_test = mne.Epochs(raw=raw_test,\n",
    "                         events=events_test,\n",
    "                         event_id=event_id,\n",
    "                         tmin=0.,\n",
    "                         tmax=tmax,\n",
    "                         baseline=None)"
   ]
  },
  {
   "cell_type": "markdown",
   "metadata": {},
   "source": [
    "### EEG信号から睡眠ステージを予測する関数の作成"
   ]
  },
  {
   "cell_type": "code",
   "execution_count": 6,
   "metadata": {},
   "outputs": [],
   "source": [
    "def eeg_power_band(epochs):\n",
    "    \"\"\"EEG relative power band feature extraction.\n",
    "\n",
    "    This function takes an ``mne.Epochs`` object and creates EEG features based\n",
    "    on relative power in specific frequency bands that are compatible with\n",
    "    scikit-learn.\n",
    "\n",
    "    Parameters\n",
    "    ----------\n",
    "    epochs : Epochs\n",
    "        The data.\n",
    "\n",
    "    Returns\n",
    "    -------\n",
    "    X : numpy array of shape [n_samples, 5]\n",
    "        Transformed data.\n",
    "    \"\"\"\n",
    "    # specific frequency bands\n",
    "    FREQ_BANDS = {\"delta\": [0.5, 4.5],\n",
    "                  \"theta\": [4.5, 8.5],\n",
    "                  \"alpha\": [8.5, 11.5],\n",
    "                  \"sigma\": [11.5, 15.5],\n",
    "                  \"beta\": [15.5, 30]}\n",
    "\n",
    "    psds, freqs = psd_welch(epochs, picks='eeg', fmin=0.5, fmax=30.)\n",
    "    # Normalize the PSDs\n",
    "    psds /= np.sum(psds, axis=-1, keepdims=True)\n",
    "\n",
    "    X = []\n",
    "    for fmin, fmax in FREQ_BANDS.values():\n",
    "        psds_band = psds[:, :, (freqs >= fmin) & (freqs < fmax)].mean(axis=-1)\n",
    "        X.append(psds_band.reshape(len(psds), -1))\n",
    "\n",
    "    return np.concatenate(X, axis=1)"
   ]
  },
  {
   "cell_type": "markdown",
   "metadata": {},
   "source": [
    "### Scikit-Learnを使って睡眠ステージを予測する"
   ]
  },
  {
   "cell_type": "code",
   "execution_count": 7,
   "metadata": {},
   "outputs": [
    {
     "name": "stdout",
     "output_type": "stream",
     "text": [
      "Loading data for 841 events and 3000 original time points ...\n",
      "0 bad epochs dropped\n",
      "Effective window size : 2.560 (s)\n"
     ]
    },
    {
     "name": "stderr",
     "output_type": "stream",
     "text": [
      "[Parallel(n_jobs=1)]: Using backend SequentialBackend with 1 concurrent workers.\n",
      "[Parallel(n_jobs=1)]: Done   1 out of   1 | elapsed:    1.8s remaining:    0.0s\n",
      "[Parallel(n_jobs=1)]: Done   1 out of   1 | elapsed:    1.8s finished\n"
     ]
    },
    {
     "name": "stdout",
     "output_type": "stream",
     "text": [
      "Loading data for 1004 events and 3000 original time points ...\n",
      "0 bad epochs dropped\n",
      "Effective window size : 2.560 (s)\n"
     ]
    },
    {
     "name": "stderr",
     "output_type": "stream",
     "text": [
      "[Parallel(n_jobs=1)]: Using backend SequentialBackend with 1 concurrent workers.\n",
      "[Parallel(n_jobs=1)]: Done   1 out of   1 | elapsed:    2.2s remaining:    0.0s\n",
      "[Parallel(n_jobs=1)]: Done   1 out of   1 | elapsed:    2.2s finished\n"
     ]
    }
   ],
   "source": [
    "pipe = make_pipeline(FunctionTransformer(eeg_power_band, validate=False),\n",
    "                     RandomForestClassifier(n_estimators=100, random_state=42))\n",
    "\n",
    "# Train\n",
    "y_train = epochs_train.events[:, 2]\n",
    "pipe.fit(epochs_train, y_train)\n",
    "\n",
    "# Test\n",
    "y_pred = pipe.predict(epochs_test) - 1\n",
    "\n",
    "# Assess the results\n",
    "y_test = epochs_test.events[:, 2] - 1\n"
   ]
  },
  {
   "cell_type": "markdown",
   "metadata": {},
   "source": [
    "### 正解率の表示"
   ]
  },
  {
   "cell_type": "code",
   "execution_count": 8,
   "metadata": {},
   "outputs": [
    {
     "name": "stdout",
     "output_type": "stream",
     "text": [
      "正解率: 0.5697211155378487\n"
     ]
    }
   ],
   "source": [
    "acc = accuracy_score(y_test, y_pred)\n",
    "\n",
    "print(\"正解率: {}\".format(acc))"
   ]
  },
  {
   "cell_type": "markdown",
   "metadata": {},
   "source": [
    "### ヒプノグラムの表示"
   ]
  },
  {
   "cell_type": "code",
   "execution_count": 9,
   "metadata": {},
   "outputs": [
    {
     "data": {
      "text/plain": [
       "<AxesSubplot:xlabel='Time [hrs]', ylabel='Stage'>"
      ]
     },
     "execution_count": 9,
     "metadata": {},
     "output_type": "execute_result"
    },
    {
     "data": {
      "image/png": "[encoded data removed]",
      "text/plain": [
       "<Figure size 900x300 with 1 Axes>"
      ]
     },
     "metadata": {},
     "output_type": "display_data"
    },
    {
     "data": {
      "image/png": "[encoded data removed]",
      "text/plain": [
       "<Figure size 900x300 with 1 Axes>"
      ]
     },
     "metadata": {},
     "output_type": "display_data"
    }
   ],
   "source": [
    "yasa.plot_hypnogram(y_test)\n",
    "yasa.plot_hypnogram(y_pred)"
   ]
  }
 ],
 "metadata": {
  "kernelspec": {
   "display_name": "Python 3.9.13 64-bit ('SleepStage')",
   "language": "python",
   "name": "python3"
  },
  "language_info": {
   "codemirror_mode": {
    "name": "ipython",
    "version": 3
   },
   "file_extension": ".py",
   "mimetype": "text/x-python",
   "name": "python",
   "nbconvert_exporter": "python",
   "pygments_lexer": "ipython3",
   "version": "3.9.13"
  },
  "orig_nbformat": 4,
  "vscode": {
   "interpreter": {
    "hash": "94098c7c54044d210d2d71c8fdd11ca45c2569da116abc8132bcec8757abdf93"
   }
  }
 },
 "nbformat": 4,
 "nbformat_minor": 2
}
