{
 "cells": [
  {
   "cell_type": "markdown",
   "metadata": {},
   "source": [
    "Authors: \n",
    "- Alexandre Gramfort <alexandre.gramfort@inria.fr>\n",
    "- Stanislas Chambon <stan.chambon@gmail.com>\n",
    "- Joan Massich <mailsik@gmail.com>\n",
    "\n",
    "License: BSD-3-Clause\n",
    "\n",
    "---\n",
    "\n",
    "# 睡眠ステージの分類"
   ]
  },
  {
   "cell_type": "markdown",
   "metadata": {},
   "source": [
    "### パッケージのimport"
   ]
  },
  {
   "cell_type": "code",
   "execution_count": 30,
   "metadata": {},
   "outputs": [],
   "source": [
    "import numpy as np\n",
    "import matplotlib.pyplot as plt\n",
    "import yasa\n",
    "import pandas as pd\n",
    "import mne\n",
    "from mne.datasets.sleep_physionet.age import fetch_data\n",
    "from mne.time_frequency import psd_welch\n",
    "\n",
    "from sklearn.ensemble import RandomForestClassifier\n",
    "from sklearn.metrics import accuracy_score\n",
    "from sklearn.metrics import confusion_matrix\n",
    "from sklearn.metrics import classification_report\n",
    "from sklearn.pipeline import make_pipeline\n",
    "from sklearn.preprocessing import FunctionTransformer"
   ]
  },
  {
   "cell_type": "markdown",
   "metadata": {},
   "source": [
    "### データの読み込み"
   ]
  },
  {
   "cell_type": "markdown",
   "metadata": {},
   "source": [
    "##### PSGデータを読み込んで、"
   ]
  },
  {
   "cell_type": "code",
   "execution_count": 31,
   "metadata": {},
   "outputs": [
    {
     "name": "stdout",
     "output_type": "stream",
     "text": [
      "Using default location ~/mne_data for PHYSIONET_SLEEP...\n",
      "['/net/nfs/home/imamura22/mne_data/physionet-sleep-data/SC4001E0-PSG.edf', '/net/nfs/home/imamura22/mne_data/physionet-sleep-data/SC4001EC-Hypnogram.edf']\n",
      "Extracting EDF parameters from /net/nfs/home/imamura22/mne_data/physionet-sleep-data/SC4001E0-PSG.edf...\n",
      "EDF file detected\n",
      "Setting channel info structure...\n",
      "Creating raw.info structure...\n"
     ]
    },
    {
     "data": {
      "text/html": [
       "<table class=\"table table-hover table-striped table-sm table-responsive small\">\n",
       "    <tr>\n",
       "        <th>Measurement date</th>\n",
       "        \n",
       "        <td>April 24, 1989  16:13:00 GMT</td>\n",
       "        \n",
       "    </tr>\n",
       "    <tr>\n",
       "        <th>Experimenter</th>\n",
       "        \n",
       "        <td>Unknown</td>\n",
       "        \n",
       "    </tr>\n",
       "        <th>Participant</th>\n",
       "        \n",
       "        <td>Unknown</td>\n",
       "        \n",
       "    </tr>\n",
       "    <tr>\n",
       "        <th>Digitized points</th>\n",
       "        \n",
       "        <td>Not available</td>\n",
       "        \n",
       "    </tr>\n",
       "    <tr>\n",
       "        <th>Good channels</th>\n",
       "        <td>5 EEG, 1 misc, 1 Stimulus</td>\n",
       "    </tr>\n",
       "    <tr>\n",
       "        <th>Bad channels</th>\n",
       "        <td>None</td>\n",
       "    </tr>\n",
       "    <tr>\n",
       "        <th>EOG channels</th>\n",
       "        <td>Not available</td>\n",
       "    </tr>\n",
       "    <tr>\n",
       "        <th>ECG channels</th>\n",
       "        <td>Not available</td>\n",
       "    \n",
       "    <tr>\n",
       "        <th>Sampling frequency</th>\n",
       "        <td>100.00 Hz</td>\n",
       "    </tr>\n",
       "    \n",
       "    \n",
       "    <tr>\n",
       "        <th>Highpass</th>\n",
       "        <td>0.50 Hz</td>\n",
       "    </tr>\n",
       "    \n",
       "    \n",
       "    <tr>\n",
       "        <th>Lowpass</th>\n",
       "        <td>100.00 Hz</td>\n",
       "    </tr>\n",
       "    \n",
       "    \n",
       "    \n",
       "    <tr>\n",
       "        <th>Filenames</th>\n",
       "        <td>SC4001E0-PSG.edf</td>\n",
       "    </tr>\n",
       "    \n",
       "    <tr>\n",
       "        <th>Duration</th>\n",
       "        <td>22:04:59 (HH:MM:SS)</td>\n",
       "    </tr>\n",
       "</table>"
      ],
      "text/plain": [
       "<RawEDF | SC4001E0-PSG.edf, 7 x 7950000 (79500.0 s), ~12 kB, data not loaded>"
      ]
     },
     "execution_count": 31,
     "metadata": {},
     "output_type": "execute_result"
    }
   ],
   "source": [
    "ALICE, BOB = 0, 7\n",
    "\n",
    "[alice_files, bob_files] = fetch_data(subjects=[ALICE, BOB], recording=[1])\n",
    "print(alice_files)\n",
    "\n",
    "raw_train = mne.io.read_raw_edf(alice_files[0], stim_channel='Event marker',\n",
    "                                misc=['Temp rectal'])\n",
    "annot_train = mne.read_annotations(alice_files[1])\n",
    "\n",
    "raw_train.set_annotations(annot_train, emit_warning=False)\n"
   ]
  },
  {
   "cell_type": "code",
   "execution_count": 32,
   "metadata": {},
   "outputs": [
    {
     "name": "stdout",
     "output_type": "stream",
     "text": [
      "Used Annotations descriptions: ['Sleep stage 1', 'Sleep stage 2', 'Sleep stage 3', 'Sleep stage 4', 'Sleep stage R', 'Sleep stage W']\n"
     ]
    }
   ],
   "source": [
    "annotation_desc_2_event_id = {'Sleep stage W': 1,\n",
    "                              'Sleep stage 1': 2,\n",
    "                              'Sleep stage 2': 3,\n",
    "                              'Sleep stage 3': 4,\n",
    "                              'Sleep stage 4': 4,\n",
    "                              'Sleep stage R': 5}\n",
    "\n",
    "# keep last 30-min wake events before sleep and first 30-min wake events after\n",
    "# sleep and redefine annotations on raw data\n",
    "\n",
    "annot_train.crop(annot_train[1]['onset'] - 30 * 60,\n",
    "                 annot_train[-2]['onset'] + 30 * 60)\n",
    "raw_train.set_annotations(annot_train, emit_warning=False)\n",
    "\n",
    "events_train, _ = mne.events_from_annotations(\n",
    "    raw_train, event_id=annotation_desc_2_event_id, chunk_duration=30.)\n",
    "\n",
    "# create a new event_id that unifies stages 3 and 4\n",
    "event_id = {'Sleep stage W': 1,\n",
    "            'Sleep stage 1': 2,\n",
    "            'Sleep stage 2': 3,\n",
    "            'Sleep stage 3/4': 4,\n",
    "            'Sleep stage R': 5}\n",
    "\n",
    "\n",
    "# keep the color-code for further plotting\n",
    "stage_colors = plt.rcParams['axes.prop_cycle'].by_key()['color']"
   ]
  },
  {
   "cell_type": "code",
   "execution_count": 33,
   "metadata": {},
   "outputs": [
    {
     "name": "stdout",
     "output_type": "stream",
     "text": [
      "Not setting metadata\n",
      "841 matching events found\n",
      "No baseline correction applied\n",
      "0 projection items activated\n",
      "<Epochs |  841 events (good & bad), 0 - 29.99 sec, baseline off, ~12 kB, data not loaded,\n",
      " 'Sleep stage W': 188\n",
      " 'Sleep stage 1': 58\n",
      " 'Sleep stage 2': 250\n",
      " 'Sleep stage 3/4': 220\n",
      " 'Sleep stage R': 125>\n"
     ]
    }
   ],
   "source": [
    "tmax = 30. - 1. / raw_train.info['sfreq']  # tmax in included\n",
    "\n",
    "epochs_train = mne.Epochs(raw=raw_train, events=events_train,\n",
    "                          event_id=event_id, tmin=0., tmax=tmax, baseline=None)\n",
    "\n",
    "print(epochs_train)"
   ]
  },
  {
   "cell_type": "markdown",
   "metadata": {},
   "source": [
    "##### Bobのテストデータに同じ手順を適用"
   ]
  },
  {
   "cell_type": "code",
   "execution_count": 34,
   "metadata": {},
   "outputs": [
    {
     "name": "stdout",
     "output_type": "stream",
     "text": [
      "Extracting EDF parameters from /net/nfs/home/imamura22/mne_data/physionet-sleep-data/SC4071E0-PSG.edf...\n",
      "EDF file detected\n",
      "Setting channel info structure...\n",
      "Creating raw.info structure...\n",
      "Used Annotations descriptions: ['Sleep stage 1', 'Sleep stage 2', 'Sleep stage 3', 'Sleep stage 4', 'Sleep stage R', 'Sleep stage W']\n",
      "Not setting metadata\n",
      "976 matching events found\n",
      "No baseline correction applied\n",
      "0 projection items activated\n",
      "<Epochs |  976 events (good & bad), 0 - 29.99 sec, baseline off, ~12 kB, data not loaded,\n",
      " 'Sleep stage W': 124\n",
      " 'Sleep stage 1': 89\n",
      " 'Sleep stage 2': 403\n",
      " 'Sleep stage 3/4': 162\n",
      " 'Sleep stage R': 198>\n"
     ]
    }
   ],
   "source": [
    "raw_test = mne.io.read_raw_edf(bob_files[0], stim_channel='Event marker',\n",
    "                               misc=['Temp rectal'])\n",
    "annot_test = mne.read_annotations(bob_files[1])\n",
    "annot_test.crop(annot_test[1]['onset'] - 30 * 60,\n",
    "                annot_test[-2]['onset'] + 30 * 60)\n",
    "raw_test.set_annotations(annot_test, emit_warning=False)\n",
    "events_test, _ = mne.events_from_annotations(\n",
    "    raw_test, event_id=annotation_desc_2_event_id, chunk_duration=30.)\n",
    "epochs_test = mne.Epochs(raw=raw_test, events=events_test, event_id=event_id,\n",
    "                         tmin=0., tmax=tmax, baseline=None)\n",
    "\n",
    "print(epochs_test)"
   ]
  },
  {
   "cell_type": "markdown",
   "metadata": {},
   "source": [
    "### EEG信号から睡眠ステージを予測する関数の作成"
   ]
  },
  {
   "cell_type": "code",
   "execution_count": 35,
   "metadata": {},
   "outputs": [],
   "source": [
    "def eeg_power_band(epochs):\n",
    "    \"\"\"EEG relative power band feature extraction.\n",
    "\n",
    "    This function takes an ``mne.Epochs`` object and creates EEG features based\n",
    "    on relative power in specific frequency bands that are compatible with\n",
    "    scikit-learn.\n",
    "\n",
    "    Parameters\n",
    "    ----------\n",
    "    epochs : Epochs\n",
    "        The data.\n",
    "\n",
    "    Returns\n",
    "    -------\n",
    "    X : numpy array of shape [n_samples, 5]\n",
    "        Transformed data.\n",
    "    \"\"\"\n",
    "    # specific frequency bands\n",
    "    FREQ_BANDS = {\"delta\": [0.5, 4.5],\n",
    "                  \"theta\": [4.5, 8.5],\n",
    "                  \"alpha\": [8.5, 11.5],\n",
    "                  \"sigma\": [11.5, 15.5],\n",
    "                  \"beta\": [15.5, 30]}\n",
    "\n",
    "    psds, freqs = psd_welch(epochs, picks='eeg', fmin=0.5, fmax=30.)\n",
    "    # Normalize the PSDs\n",
    "    psds /= np.sum(psds, axis=-1, keepdims=True)\n",
    "\n",
    "    X = []\n",
    "    for fmin, fmax in FREQ_BANDS.values():\n",
    "        psds_band = psds[:, :, (freqs >= fmin) & (freqs < fmax)].mean(axis=-1)\n",
    "        X.append(psds_band.reshape(len(psds), -1))\n",
    "\n",
    "    return np.concatenate(X, axis=1)"
   ]
  },
  {
   "cell_type": "markdown",
   "metadata": {},
   "source": [
    "### Scikit-Learnを使って睡眠ステージを予測する"
   ]
  },
  {
   "cell_type": "code",
   "execution_count": 36,
   "metadata": {},
   "outputs": [
    {
     "name": "stdout",
     "output_type": "stream",
     "text": [
      "Loading data for 841 events and 3000 original time points ...\n",
      "0 bad epochs dropped\n",
      "Effective window size : 2.560 (s)\n"
     ]
    },
    {
     "name": "stderr",
     "output_type": "stream",
     "text": [
      "[Parallel(n_jobs=1)]: Using backend SequentialBackend with 1 concurrent workers.\n",
      "[Parallel(n_jobs=1)]: Done   1 out of   1 | elapsed:    1.2s remaining:    0.0s\n",
      "[Parallel(n_jobs=1)]: Done   1 out of   1 | elapsed:    1.2s finished\n"
     ]
    },
    {
     "name": "stdout",
     "output_type": "stream",
     "text": [
      "Loading data for 976 events and 3000 original time points ...\n",
      "0 bad epochs dropped\n",
      "Effective window size : 2.560 (s)\n"
     ]
    },
    {
     "name": "stderr",
     "output_type": "stream",
     "text": [
      "[Parallel(n_jobs=1)]: Using backend SequentialBackend with 1 concurrent workers.\n",
      "[Parallel(n_jobs=1)]: Done   1 out of   1 | elapsed:    1.4s remaining:    0.0s\n",
      "[Parallel(n_jobs=1)]: Done   1 out of   1 | elapsed:    1.4s finished\n"
     ]
    }
   ],
   "source": [
    "pipe = make_pipeline(FunctionTransformer(eeg_power_band, validate=False),\n",
    "                     RandomForestClassifier(n_estimators=100, random_state=42))\n",
    "\n",
    "# Train\n",
    "y_train = epochs_train.events[:, 2]\n",
    "pipe.fit(epochs_train, y_train)\n",
    "\n",
    "# Test\n",
    "y_pred = pipe.predict(epochs_test)\n",
    "\n",
    "# Assess the results\n",
    "y_test = epochs_test.events[:, 2]\n"
   ]
  },
  {
   "cell_type": "code",
   "execution_count": 37,
   "metadata": {},
   "outputs": [
    {
     "data": {
      "image/png": "[encoded data removed]",
      "text/plain": [
       "<Figure size 640x480 with 1 Axes>"
      ]
     },
     "metadata": {},
     "output_type": "display_data"
    },
    {
     "data": {
      "image/png": "[encoded data removed]",
      "text/plain": [
       "<Figure size 640x480 with 1 Axes>"
      ]
     },
     "metadata": {},
     "output_type": "display_data"
    },
    {
     "name": "stdout",
     "output_type": "stream",
     "text": [
      "[0 0 0 ... 0 0 0]\n",
      "Accuracy score: 0.6198770491803278\n"
     ]
    }
   ],
   "source": [
    "for object in [(y_test, \"Reference\"), (y_pred, \"Predicted\")]:\n",
    "    x = np.array(range(0, len(object[0])))\n",
    "    y = np.array(object[0])\n",
    "    plt.title(object[1])\n",
    "    plt.plot(x, y, color = \"black\", lw = 1)\n",
    "    plt.yticks(range(0, 6))\n",
    "    plt.show()\n",
    "\n",
    "acc = accuracy_score(y_test, y_pred)\n",
    "\n",
    "sls = yasa.SleepStaging(raw_test, eeg_name=\"EEG Fpz-Cz\")\n",
    "hypno_pred = sls.predict()\n",
    "hypno_pred = yasa.hypno_str_to_int(hypno_pred)\n",
    "print(hypno_pred)\n",
    "\n",
    "print(\"Accuracy score: {}\".format(acc))"
   ]
  },
  {
   "cell_type": "markdown",
   "metadata": {},
   "source": [
    "正確率が64.1%"
   ]
  },
  {
   "cell_type": "code",
   "execution_count": 38,
   "metadata": {},
   "outputs": [
    {
     "name": "stdout",
     "output_type": "stream",
     "text": [
      "[[119   4   1   0   0]\n",
      " [ 37  36   3   0  13]\n",
      " [ 40  27 224   1 111]\n",
      " [  8   0  33 121   0]\n",
      " [ 33  60   0   0 105]]\n"
     ]
    }
   ],
   "source": [
    "print(confusion_matrix(y_test, y_pred))"
   ]
  }
 ],
 "metadata": {
  "kernelspec": {
   "display_name": "Python 3.9.13 64-bit ('SleepStage')",
   "language": "python",
   "name": "python3"
  },
  "language_info": {
   "codemirror_mode": {
    "name": "ipython",
    "version": 3
   },
   "file_extension": ".py",
   "mimetype": "text/x-python",
   "name": "python",
   "nbconvert_exporter": "python",
   "pygments_lexer": "ipython3",
   "version": "3.9.13"
  },
  "orig_nbformat": 4,
  "vscode": {
   "interpreter": {
    "hash": "94098c7c54044d210d2d71c8fdd11ca45c2569da116abc8132bcec8757abdf93"
   }
  }
 },
 "nbformat": 4,
 "nbformat_minor": 2
}
