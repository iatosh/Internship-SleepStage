{
 "cells": [
  {
   "cell_type": "markdown",
   "metadata": {},
   "source": [
    "# YASA\n",
    "\n",
    "Channels:\n",
    "- EEG(Fpz-Cz)  \n",
    "- EOG(horizontal)  \n",
    "- EMG(submental)"
   ]
  },
  {
   "cell_type": "code",
   "execution_count": 2,
   "metadata": {},
   "outputs": [],
   "source": [
    "import numpy as np\n",
    "import matplotlib.pyplot as plt\n",
    "import yasa\n",
    "import pandas as pd\n",
    "import mne\n",
    "from mne.datasets.sleep_physionet.age import fetch_data\n",
    "from mne.time_frequency import psd_welch\n",
    "from sklearn.metrics import accuracy_score"
   ]
  },
  {
   "cell_type": "code",
   "execution_count": 3,
   "metadata": {},
   "outputs": [],
   "source": [
    "annotation_desc_2_event_id = {'Sleep stage W': 1,\n",
    "                              'Sleep stage 1': 2,\n",
    "                              'Sleep stage 2': 3,\n",
    "                              'Sleep stage 3': 4,\n",
    "                              'Sleep stage 4': 4,\n",
    "                              'Sleep stage R': 5}\n",
    "\n",
    "# create a new event_id that unifies stages 3 and 4\n",
    "event_id = {'Sleep stage W': 1,\n",
    "            'Sleep stage 1': 2,\n",
    "            'Sleep stage 2': 3,\n",
    "            'Sleep stage 3/4': 4,\n",
    "            'Sleep stage R': 5}"
   ]
  },
  {
   "cell_type": "markdown",
   "metadata": {},
   "source": [
    "### データの事前処理"
   ]
  },
  {
   "cell_type": "code",
   "execution_count": 4,
   "metadata": {},
   "outputs": [
    {
     "name": "stdout",
     "output_type": "stream",
     "text": [
      "Using default location ~/mne_data for PHYSIONET_SLEEP...\n",
      "Extracting EDF parameters from /net/nfs/home/imamura22/mne_data/physionet-sleep-data/SC4031E0-PSG.edf...\n",
      "EDF file detected\n",
      "Setting channel info structure...\n",
      "Creating raw.info structure...\n",
      "Used Annotations descriptions: ['Sleep stage 1', 'Sleep stage 2', 'Sleep stage 3', 'Sleep stage 4', 'Sleep stage R', 'Sleep stage W']\n",
      "Not setting metadata\n",
      "952 matching events found\n",
      "No baseline correction applied\n",
      "0 projection items activated\n"
     ]
    },
    {
     "data": {
      "text/html": [
       "<table class=\"table table-hover table-striped table-sm table-responsive small\">\n",
       "    <tr>\n",
       "        <th>Measurement date</th>\n",
       "        \n",
       "        <td>April 10, 1989  16:50:00 GMT</td>\n",
       "        \n",
       "    </tr>\n",
       "    <tr>\n",
       "        <th>Experimenter</th>\n",
       "        \n",
       "        <td>Unknown</td>\n",
       "        \n",
       "    </tr>\n",
       "        <th>Participant</th>\n",
       "        \n",
       "        <td>Unknown</td>\n",
       "        \n",
       "    </tr>\n",
       "    <tr>\n",
       "        <th>Digitized points</th>\n",
       "        \n",
       "        <td>Not available</td>\n",
       "        \n",
       "    </tr>\n",
       "    <tr>\n",
       "        <th>Good channels</th>\n",
       "        <td>5 EEG, 1 misc, 1 Stimulus</td>\n",
       "    </tr>\n",
       "    <tr>\n",
       "        <th>Bad channels</th>\n",
       "        <td>None</td>\n",
       "    </tr>\n",
       "    <tr>\n",
       "        <th>EOG channels</th>\n",
       "        <td>Not available</td>\n",
       "    </tr>\n",
       "    <tr>\n",
       "        <th>ECG channels</th>\n",
       "        <td>Not available</td>\n",
       "    \n",
       "    <tr>\n",
       "        <th>Sampling frequency</th>\n",
       "        <td>100.00 Hz</td>\n",
       "    </tr>\n",
       "    \n",
       "    \n",
       "    <tr>\n",
       "        <th>Highpass</th>\n",
       "        <td>0.50 Hz</td>\n",
       "    </tr>\n",
       "    \n",
       "    \n",
       "    <tr>\n",
       "        <th>Lowpass</th>\n",
       "        <td>100.00 Hz</td>\n",
       "    </tr>\n",
       "    \n",
       "    \n",
       "    \n",
       "    <tr>\n",
       "        <th>Filenames</th>\n",
       "        <td>SC4031E0-PSG.edf</td>\n",
       "    </tr>\n",
       "    \n",
       "    <tr>\n",
       "        <th>Duration</th>\n",
       "        <td>08:05:00 (HH:MM:SS)</td>\n",
       "    </tr>\n",
       "</table>"
      ],
      "text/plain": [
       "<RawEDF | SC4031E0-PSG.edf, 7 x 2910001 (29100.0 s), ~12 kB, data not loaded>"
      ]
     },
     "execution_count": 4,
     "metadata": {},
     "output_type": "execute_result"
    }
   ],
   "source": [
    "# ここのsubjectsの中の数字を変えることで、対象データを変更\n",
    "#  3 -> SC4031E0-PSG.edf\n",
    "# 21 -> SC4211E0-PSG.edf\n",
    "[subject] = fetch_data(subjects=[3], recording=[1])\n",
    "\n",
    "edf = mne.io.read_raw_edf(subject[0],\n",
    "                          stim_channel='Event marker',\n",
    "                          misc=['Temp rectal'])\n",
    "\n",
    "annot = mne.read_annotations(subject[1])\n",
    "\n",
    "annot.crop(annot[1]['onset'] - 30 * 60,\n",
    "           annot[-2]['onset'] + 30 * 60)\n",
    "\n",
    "edf.set_annotations(annot, emit_warning=False)\n",
    "\n",
    "events, _ = mne.events_from_annotations(edf,\n",
    "                                        event_id=annotation_desc_2_event_id,\n",
    "                                        chunk_duration=30.)\n",
    "\n",
    "tmax = 30. - 1. / edf.info['sfreq']\n",
    "\n",
    "epochs = mne.Epochs(raw=edf,\n",
    "                    events=events,\n",
    "                    event_id=event_id,\n",
    "                    tmin=0.,\n",
    "                    tmax=tmax,\n",
    "                    baseline=None)\n",
    "\n",
    "# 1次元配列の抽出\n",
    "hypno = epochs.events[:, 2] - 1\n",
    "\n",
    "edf.crop(annot[1]['onset'] - 30 * 60,\n",
    "         annot[-2]['onset'] + 40 * 60)"
   ]
  },
  {
   "cell_type": "markdown",
   "metadata": {},
   "source": [
    "### 睡眠ステージの推定"
   ]
  },
  {
   "cell_type": "code",
   "execution_count": 5,
   "metadata": {},
   "outputs": [],
   "source": [
    "sls = yasa.SleepStaging(edf, eeg_name=\"EEG Fpz-Cz\", eog_name=\"EOG horizontal\", emg_name=\"EMG submental\")\n",
    "hypno_pred = sls.predict()\n",
    "hypno_pred = yasa.hypno_str_to_int(hypno_pred)"
   ]
  },
  {
   "cell_type": "markdown",
   "metadata": {},
   "source": [
    "### 特徴量の表示"
   ]
  },
  {
   "cell_type": "code",
   "execution_count": 10,
   "metadata": {},
   "outputs": [
    {
     "name": "stdout",
     "output_type": "stream",
     "text": [
      "['eeg_abspow', 'eeg_abspow_c7min_norm', 'eeg_abspow_p2min_norm', 'eeg_alpha', 'eeg_alpha_c7min_norm', 'eeg_alpha_p2min_norm', 'eeg_at', 'eeg_at_c7min_norm', 'eeg_at_p2min_norm', 'eeg_beta', 'eeg_beta_c7min_norm', 'eeg_beta_p2min_norm', 'eeg_db', 'eeg_db_c7min_norm', 'eeg_db_p2min_norm', 'eeg_ds', 'eeg_ds_c7min_norm', 'eeg_ds_p2min_norm', 'eeg_dt', 'eeg_dt_c7min_norm', 'eeg_dt_p2min_norm', 'eeg_fdelta', 'eeg_fdelta_c7min_norm', 'eeg_fdelta_p2min_norm', 'eeg_hcomp', 'eeg_hcomp_c7min_norm', 'eeg_hcomp_p2min_norm', 'eeg_higuchi', 'eeg_higuchi_c7min_norm', 'eeg_higuchi_p2min_norm', 'eeg_hmob', 'eeg_hmob_c7min_norm', 'eeg_hmob_p2min_norm', 'eeg_iqr', 'eeg_iqr_c7min_norm', 'eeg_iqr_p2min_norm', 'eeg_kurt', 'eeg_kurt_c7min_norm', 'eeg_kurt_p2min_norm', 'eeg_nzc', 'eeg_nzc_c7min_norm', 'eeg_nzc_p2min_norm', 'eeg_perm', 'eeg_perm_c7min_norm', 'eeg_perm_p2min_norm', 'eeg_petrosian', 'eeg_petrosian_c7min_norm', 'eeg_petrosian_p2min_norm', 'eeg_sdelta', 'eeg_sdelta_c7min_norm', 'eeg_sdelta_p2min_norm', 'eeg_sigma', 'eeg_sigma_c7min_norm', 'eeg_sigma_p2min_norm', 'eeg_skew', 'eeg_skew_c7min_norm', 'eeg_skew_p2min_norm', 'eeg_std', 'eeg_std_c7min_norm', 'eeg_std_p2min_norm', 'eeg_theta', 'eeg_theta_c7min_norm', 'eeg_theta_p2min_norm', 'time_hour', 'time_norm', 'eog_abspow', 'eog_abspow_c7min_norm', 'eog_abspow_p2min_norm', 'eog_alpha', 'eog_alpha_c7min_norm', 'eog_alpha_p2min_norm', 'eog_beta', 'eog_beta_c7min_norm', 'eog_beta_p2min_norm', 'eog_fdelta', 'eog_fdelta_c7min_norm', 'eog_fdelta_p2min_norm', 'eog_hcomp', 'eog_hcomp_c7min_norm', 'eog_hcomp_p2min_norm', 'eog_higuchi', 'eog_higuchi_c7min_norm', 'eog_higuchi_p2min_norm', 'eog_hmob', 'eog_hmob_c7min_norm', 'eog_hmob_p2min_norm', 'eog_iqr', 'eog_iqr_c7min_norm', 'eog_iqr_p2min_norm', 'eog_kurt', 'eog_kurt_c7min_norm', 'eog_kurt_p2min_norm', 'eog_nzc', 'eog_nzc_c7min_norm', 'eog_nzc_p2min_norm', 'eog_perm', 'eog_perm_c7min_norm', 'eog_perm_p2min_norm', 'eog_petrosian', 'eog_petrosian_c7min_norm', 'eog_petrosian_p2min_norm', 'eog_sdelta', 'eog_sdelta_c7min_norm', 'eog_sdelta_p2min_norm', 'eog_sigma', 'eog_sigma_c7min_norm', 'eog_sigma_p2min_norm', 'eog_skew', 'eog_skew_c7min_norm', 'eog_skew_p2min_norm', 'eog_std', 'eog_std_c7min_norm', 'eog_std_p2min_norm', 'eog_theta', 'eog_theta_c7min_norm', 'eog_theta_p2min_norm', 'emg_abspow', 'emg_abspow_c7min_norm', 'emg_abspow_p2min_norm', 'emg_hcomp', 'emg_hcomp_c7min_norm', 'emg_hcomp_p2min_norm', 'emg_higuchi', 'emg_higuchi_c7min_norm', 'emg_higuchi_p2min_norm', 'emg_hmob', 'emg_hmob_c7min_norm', 'emg_hmob_p2min_norm', 'emg_iqr', 'emg_iqr_c7min_norm', 'emg_iqr_p2min_norm', 'emg_kurt', 'emg_kurt_c7min_norm', 'emg_kurt_p2min_norm', 'emg_nzc', 'emg_nzc_c7min_norm', 'emg_nzc_p2min_norm', 'emg_perm', 'emg_perm_c7min_norm', 'emg_perm_p2min_norm', 'emg_petrosian', 'emg_petrosian_c7min_norm', 'emg_petrosian_p2min_norm', 'emg_skew', 'emg_skew_c7min_norm', 'emg_skew_p2min_norm', 'emg_std', 'emg_std_c7min_norm', 'emg_std_p2min_norm']\n",
      "time_hour\n",
      "time_norm\n",
      "63 51 33\n",
      "147 149\n"
     ]
    }
   ],
   "source": [
    "model = sls._load_model(\"auto\")\n",
    "print(model.feature_name_)\n",
    "\n",
    "eeg, eog, emg = 0, 0, 0\n",
    "c = 0\n",
    "for data in model.feature_name_:\n",
    "    if \"eeg\" in data:\n",
    "        eeg += 1\n",
    "    elif \"eog\" in data:\n",
    "        eog += 1\n",
    "    elif \"emg\" in data:\n",
    "        emg += 1\n",
    "    else:\n",
    "        print(data)\n",
    "    c += 1\n",
    "\n",
    "print(eeg, eog, emg)\n",
    "print(eeg+eog+emg, c)"
   ]
  },
  {
   "cell_type": "markdown",
   "metadata": {},
   "source": [
    "### ヒプノグラムの表示"
   ]
  },
  {
   "cell_type": "code",
   "execution_count": null,
   "metadata": {},
   "outputs": [
    {
     "data": {
      "text/plain": [
       "<AxesSubplot:xlabel='Time [hrs]', ylabel='Stage'>"
      ]
     },
     "execution_count": 55,
     "metadata": {},
     "output_type": "execute_result"
    },
    {
     "data": {
      "image/png": "[encoded data removed]",
      "text/plain": [
       "<Figure size 900x300 with 1 Axes>"
      ]
     },
     "metadata": {},
     "output_type": "display_data"
    },
    {
     "data": {
      "image/png": "[encoded data removed]",
      "text/plain": [
       "<Figure size 900x300 with 1 Axes>"
      ]
     },
     "metadata": {},
     "output_type": "display_data"
    }
   ],
   "source": [
    "yasa.plot_hypnogram(hypno)\n",
    "yasa.plot_hypnogram(hypno_pred)"
   ]
  },
  {
   "cell_type": "markdown",
   "metadata": {},
   "source": [
    "### 正解率の算出"
   ]
  },
  {
   "cell_type": "code",
   "execution_count": null,
   "metadata": {},
   "outputs": [
    {
     "name": "stdout",
     "output_type": "stream",
     "text": [
      "正解率:  0.8245798319327731\n"
     ]
    }
   ],
   "source": [
    "length = -(len(hypno_pred) - len(hypno))\n",
    "acc = accuracy_score(hypno, hypno_pred[:length]) # 正解率\n",
    "\n",
    "print('正解率: ', acc)"
   ]
  }
 ],
 "metadata": {
  "kernelspec": {
   "display_name": "Python 3.9.13 64-bit",
   "language": "python",
   "name": "python3"
  },
  "language_info": {
   "codemirror_mode": {
    "name": "ipython",
    "version": 3
   },
   "file_extension": ".py",
   "mimetype": "text/x-python",
   "name": "python",
   "nbconvert_exporter": "python",
   "pygments_lexer": "ipython3",
   "version": "3.9.13"
  },
  "orig_nbformat": 4,
  "vscode": {
   "interpreter": {
    "hash": "94098c7c54044d210d2d71c8fdd11ca45c2569da116abc8132bcec8757abdf93"
   }
  }
 },
 "nbformat": 4,
 "nbformat_minor": 2
}
