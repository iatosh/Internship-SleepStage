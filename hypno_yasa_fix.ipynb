{
 "cells": [
  {
   "cell_type": "code",
   "execution_count": 46,
   "metadata": {},
   "outputs": [],
   "source": [
    "import numpy as np\n",
    "import matplotlib.pyplot as plt\n",
    "import yasa\n",
    "import pandas as pd\n",
    "import mne\n",
    "from mne.datasets.sleep_physionet.age import fetch_data\n",
    "from mne.time_frequency import psd_welch\n",
    "from sklearn.metrics import accuracy_score"
   ]
  },
  {
   "cell_type": "code",
   "execution_count": 47,
   "metadata": {},
   "outputs": [],
   "source": [
    "annotation_desc_2_event_id = {'Sleep stage W': 1,\n",
    "                              'Sleep stage 1': 2,\n",
    "                              'Sleep stage 2': 3,\n",
    "                              'Sleep stage 3': 4,\n",
    "                              'Sleep stage 4': 4,\n",
    "                              'Sleep stage R': 5}\n",
    "\n",
    "# create a new event_id that unifies stages 3 and 4\n",
    "event_id = {'Sleep stage W': 1,\n",
    "            'Sleep stage 1': 2,\n",
    "            'Sleep stage 2': 3,\n",
    "            'Sleep stage 3/4': 4,\n",
    "            'Sleep stage R': 5}"
   ]
  },
  {
   "cell_type": "markdown",
   "metadata": {},
   "source": [
    "### データの用意"
   ]
  },
  {
   "cell_type": "code",
   "execution_count": 48,
   "metadata": {},
   "outputs": [
    {
     "name": "stdout",
     "output_type": "stream",
     "text": [
      "Using default location ~/mne_data for PHYSIONET_SLEEP...\n",
      "Extracting EDF parameters from /net/nfs/home/imamura22/mne_data/physionet-sleep-data/SC4001E0-PSG.edf...\n",
      "EDF file detected\n",
      "Setting channel info structure...\n",
      "Creating raw.info structure...\n",
      "Used Annotations descriptions: ['Sleep stage 1', 'Sleep stage 2', 'Sleep stage 3', 'Sleep stage 4', 'Sleep stage R', 'Sleep stage W']\n",
      "Not setting metadata\n",
      "841 matching events found\n",
      "No baseline correction applied\n",
      "0 projection items activated\n"
     ]
    }
   ],
   "source": [
    "[alice_files] = fetch_data(subjects=[0], recording=[1])\n",
    "\n",
    "edf = mne.io.read_raw_edf(alice_files[0], stim_channel='Event marker',\n",
    "                                misc=['Temp rectal'])\n",
    "\n",
    "annot = mne.read_annotations(alice_files[1])\n",
    "\n",
    "annot.crop(annot[1]['onset'] - 30 * 60,\n",
    "                annot[-2]['onset'] + 30 * 60)\n",
    "\n",
    "edf.set_annotations(annot, emit_warning=False)\n",
    "\n",
    "events, _ = mne.events_from_annotations(\n",
    "    edf, event_id=annotation_desc_2_event_id, chunk_duration=30.)\n",
    "\n",
    "tmax = 30. - 1. / edf.info['sfreq']\n",
    "\n",
    "epochs = mne.Epochs(raw=edf, events=events, event_id=event_id,\n",
    "                         tmin=0., tmax=tmax, baseline=None)\n",
    "\n",
    "# 1次元配列の抽出\n",
    "hypno = epochs.events[:, 2] - 1\n",
    "\n",
    "\n",
    "edf.crop(tmin=float(annot[1]['onset'] - 30 * 60), tmax=float(annot[-2]['onset'] + 40 * 60))\n",
    "\n",
    "csv = pd.DataFrame(hypno)\n",
    "csv.to_csv(\"./1.csv\")\n",
    "\n"
   ]
  },
  {
   "cell_type": "code",
   "execution_count": 49,
   "metadata": {},
   "outputs": [
    {
     "name": "stdout",
     "output_type": "stream",
     "text": [
      "['EEG Fpz-Cz', 'EEG Pz-Oz', 'EOG horizontal', 'Resp oro-nasal', 'EMG submental', 'Temp rectal', 'Event marker']\n",
      "1\n",
      "2\n",
      "4\n"
     ]
    }
   ],
   "source": [
    "ch = edf.ch_names\n",
    "print(ch)\n",
    "i = 0\n",
    "for data in ch:\n",
    "    if \"EEG\" in data:\n",
    "        EEG = i\n",
    "    elif \"EOG\" in data:\n",
    "        EOG = i\n",
    "    elif \"EMG\" in data:\n",
    "        EMG = i\n",
    "    i += 1\n",
    "\n",
    "print(EEG)\n",
    "print(EOG)\n",
    "print(EMG)\n"
   ]
  },
  {
   "cell_type": "markdown",
   "metadata": {},
   "source": [
    "### a"
   ]
  },
  {
   "cell_type": "code",
   "execution_count": 50,
   "metadata": {},
   "outputs": [],
   "source": [
    "sls = yasa.SleepStaging(edf, eeg_name=\"EEG Fpz-Cz\", eog_name=\"EOG horizontal\", emg_name=\"EMG submental\")\n",
    "hypno_pred = sls.predict()\n",
    "hypno_pred = yasa.hypno_str_to_int(hypno_pred)\n",
    "\n",
    "csv_pre = pd.DataFrame(hypno_pred)\n",
    "csv_pre.to_csv(\"./2.csv\")"
   ]
  },
  {
   "cell_type": "markdown",
   "metadata": {},
   "source": [
    "### 特徴量"
   ]
  },
  {
   "cell_type": "code",
   "execution_count": 51,
   "metadata": {},
   "outputs": [
    {
     "name": "stdout",
     "output_type": "stream",
     "text": [
      "['eeg_abspow', 'eeg_abspow_c7min_norm', 'eeg_abspow_p2min_norm', 'eeg_alpha', 'eeg_alpha_c7min_norm', 'eeg_alpha_p2min_norm', 'eeg_at', 'eeg_at_c7min_norm', 'eeg_at_p2min_norm', 'eeg_beta', 'eeg_beta_c7min_norm', 'eeg_beta_p2min_norm', 'eeg_db', 'eeg_db_c7min_norm', 'eeg_db_p2min_norm', 'eeg_ds', 'eeg_ds_c7min_norm', 'eeg_ds_p2min_norm', 'eeg_dt', 'eeg_dt_c7min_norm', 'eeg_dt_p2min_norm', 'eeg_fdelta', 'eeg_fdelta_c7min_norm', 'eeg_fdelta_p2min_norm', 'eeg_hcomp', 'eeg_hcomp_c7min_norm', 'eeg_hcomp_p2min_norm', 'eeg_higuchi', 'eeg_higuchi_c7min_norm', 'eeg_higuchi_p2min_norm', 'eeg_hmob', 'eeg_hmob_c7min_norm', 'eeg_hmob_p2min_norm', 'eeg_iqr', 'eeg_iqr_c7min_norm', 'eeg_iqr_p2min_norm', 'eeg_kurt', 'eeg_kurt_c7min_norm', 'eeg_kurt_p2min_norm', 'eeg_nzc', 'eeg_nzc_c7min_norm', 'eeg_nzc_p2min_norm', 'eeg_perm', 'eeg_perm_c7min_norm', 'eeg_perm_p2min_norm', 'eeg_petrosian', 'eeg_petrosian_c7min_norm', 'eeg_petrosian_p2min_norm', 'eeg_sdelta', 'eeg_sdelta_c7min_norm', 'eeg_sdelta_p2min_norm', 'eeg_sigma', 'eeg_sigma_c7min_norm', 'eeg_sigma_p2min_norm', 'eeg_skew', 'eeg_skew_c7min_norm', 'eeg_skew_p2min_norm', 'eeg_std', 'eeg_std_c7min_norm', 'eeg_std_p2min_norm', 'eeg_theta', 'eeg_theta_c7min_norm', 'eeg_theta_p2min_norm', 'time_hour', 'time_norm', 'eog_abspow', 'eog_abspow_c7min_norm', 'eog_abspow_p2min_norm', 'eog_alpha', 'eog_alpha_c7min_norm', 'eog_alpha_p2min_norm', 'eog_beta', 'eog_beta_c7min_norm', 'eog_beta_p2min_norm', 'eog_fdelta', 'eog_fdelta_c7min_norm', 'eog_fdelta_p2min_norm', 'eog_hcomp', 'eog_hcomp_c7min_norm', 'eog_hcomp_p2min_norm', 'eog_higuchi', 'eog_higuchi_c7min_norm', 'eog_higuchi_p2min_norm', 'eog_hmob', 'eog_hmob_c7min_norm', 'eog_hmob_p2min_norm', 'eog_iqr', 'eog_iqr_c7min_norm', 'eog_iqr_p2min_norm', 'eog_kurt', 'eog_kurt_c7min_norm', 'eog_kurt_p2min_norm', 'eog_nzc', 'eog_nzc_c7min_norm', 'eog_nzc_p2min_norm', 'eog_perm', 'eog_perm_c7min_norm', 'eog_perm_p2min_norm', 'eog_petrosian', 'eog_petrosian_c7min_norm', 'eog_petrosian_p2min_norm', 'eog_sdelta', 'eog_sdelta_c7min_norm', 'eog_sdelta_p2min_norm', 'eog_sigma', 'eog_sigma_c7min_norm', 'eog_sigma_p2min_norm', 'eog_skew', 'eog_skew_c7min_norm', 'eog_skew_p2min_norm', 'eog_std', 'eog_std_c7min_norm', 'eog_std_p2min_norm', 'eog_theta', 'eog_theta_c7min_norm', 'eog_theta_p2min_norm', 'emg_abspow', 'emg_abspow_c7min_norm', 'emg_abspow_p2min_norm', 'emg_hcomp', 'emg_hcomp_c7min_norm', 'emg_hcomp_p2min_norm', 'emg_higuchi', 'emg_higuchi_c7min_norm', 'emg_higuchi_p2min_norm', 'emg_hmob', 'emg_hmob_c7min_norm', 'emg_hmob_p2min_norm', 'emg_iqr', 'emg_iqr_c7min_norm', 'emg_iqr_p2min_norm', 'emg_kurt', 'emg_kurt_c7min_norm', 'emg_kurt_p2min_norm', 'emg_nzc', 'emg_nzc_c7min_norm', 'emg_nzc_p2min_norm', 'emg_perm', 'emg_perm_c7min_norm', 'emg_perm_p2min_norm', 'emg_petrosian', 'emg_petrosian_c7min_norm', 'emg_petrosian_p2min_norm', 'emg_skew', 'emg_skew_c7min_norm', 'emg_skew_p2min_norm', 'emg_std', 'emg_std_c7min_norm', 'emg_std_p2min_norm']\n"
     ]
    }
   ],
   "source": [
    "model = sls._load_model(\"auto\")\n",
    "print(model.feature_name_)"
   ]
  },
  {
   "cell_type": "markdown",
   "metadata": {},
   "source": [
    "### 状態遷移の修正\n",
    "\n",
    "- W→N2, W→N3の状態遷移を取り除く\n",
    "- W→N2→N3 を W→N1→N2→N3とする"
   ]
  },
  {
   "cell_type": "markdown",
   "metadata": {},
   "source": [
    "パターン判別用関数"
   ]
  },
  {
   "cell_type": "code",
   "execution_count": 52,
   "metadata": {},
   "outputs": [],
   "source": [
    "# Pattern 1: 0, x, x, ... x, x, 0 (1 < x < 4)\n",
    "# Pattern 2: 0, 2, 2, 3, ...\n",
    "def check_trans(array, index, current, count):\n",
    "    if index + 1 == array.size:\n",
    "        return [\"NIL\", 0]\n",
    "\n",
    "    stage = array[index + 1]\n",
    "    \n",
    "    # 0, 2, 2, ... 2, 0\n",
    "    if stage == 0:\n",
    "        return [\"Pattern 1\", count]\n",
    "\n",
    "    elif stage != 0 and stage != current:\n",
    "        # 0, 2, 2, 3, ... \n",
    "        if current == 2 and stage == 3:\n",
    "            return [\"Pattern 2\", 0]\n",
    "\n",
    "        return [\"NIL\", 0]\n",
    "\n",
    "    # 同じステージだったら、調査位置とカウントを1増やして再帰\n",
    "    elif stage == current:\n",
    "        return check_trans(array, index + 1, current, count + 1)"
   ]
  },
  {
   "cell_type": "markdown",
   "metadata": {},
   "source": [
    "修正用関数"
   ]
  },
  {
   "cell_type": "code",
   "execution_count": 53,
   "metadata": {},
   "outputs": [],
   "source": [
    "def fix_hypno(array):\n",
    "    size = array.shape[0]\n",
    "    res = [False, 0]\n",
    "\n",
    "    for i in range(size - 1):\n",
    "        # パターン調査\n",
    "        if array[i] == 0:\n",
    "            for j in [2,3]:\n",
    "                # 0, 0, j, ... の並び\n",
    "                if array[i + 1] == j:\n",
    "                    count = 0\n",
    "                    res = check_trans(array, i, j, count)\n",
    "\n",
    "        # 修正\n",
    "        # Pattern 1: 指定範囲を全て0に置換\n",
    "        if res[0] == \"Pattern 1\" and res[1] != 0:\n",
    "            array[i + 1] = 0\n",
    "            res[1] -= 1\n",
    "            if res[1] == 0:\n",
    "                res[0] = \"NIL\"\n",
    "        \n",
    "        # Pattern 2: Pattern 2が始まる直前の0を1に置換\n",
    "        if res[0] == \"Pattern 2\":\n",
    "            array[i] = 1\n",
    "            res[0] = \"NIL\""
   ]
  },
  {
   "cell_type": "code",
   "execution_count": 54,
   "metadata": {},
   "outputs": [],
   "source": [
    "# hypno_pred = np.array([0,0,0,2,2,0,0,2,3,0])\n",
    "fixed = np.copy(hypno_pred)\n",
    "\n",
    "fix_hypno(fixed)\n",
    "\n",
    "csv_fixed = pd.DataFrame(fixed)\n",
    "csv_fixed.to_csv(\"./3.csv\")"
   ]
  },
  {
   "cell_type": "markdown",
   "metadata": {},
   "source": [
    "### ヒプノグラムの表示"
   ]
  },
  {
   "cell_type": "code",
   "execution_count": 55,
   "metadata": {},
   "outputs": [
    {
     "data": {
      "text/plain": [
       "<AxesSubplot:xlabel='Time [hrs]', ylabel='Stage'>"
      ]
     },
     "execution_count": 55,
     "metadata": {},
     "output_type": "execute_result"
    },
    {
     "data": {
      "image/png": "[encoded data removed]",
      "text/plain": [
       "<Figure size 900x300 with 1 Axes>"
      ]
     },
     "metadata": {},
     "output_type": "display_data"
    },
    {
     "data": {
      "image/png": "[encoded data removed]",
      "text/plain": [
       "<Figure size 900x300 with 1 Axes>"
      ]
     },
     "metadata": {},
     "output_type": "display_data"
    }
   ],
   "source": [
    "# hypno_pred = np.loadtxt(\"csv_fixed_hand.csv\", delimiter=\",\")[:, 1]\n",
    "\n",
    "yasa.plot_hypnogram(hypno)\n",
    "yasa.plot_hypnogram(hypno_pred)\n",
    "#yasa.plot_hypnogram(fix_case1)\n",
    "#yasa.plot_hypnogram(fixed) \n",
    "#yasa.plot_hypnogram(fix_case3)"
   ]
  },
  {
   "cell_type": "code",
   "execution_count": 56,
   "metadata": {},
   "outputs": [
    {
     "name": "stdout",
     "output_type": "stream",
     "text": [
      "正解率:  0.835909631391201\n"
     ]
    }
   ],
   "source": [
    "length = -(len(hypno_pred) - len(hypno))\n",
    "acc_bef = accuracy_score(hypno, hypno_pred[:length]) # 正解率\n",
    "\n",
    "print('正解率: ', acc_bef) \n",
    "#print('  手動修正後', acc_aft)\n",
    "#print('  修正後(方法1)', acc_case1)\n",
    "\n",
    "#print('  修正後(方法3)', acc_case3)"
   ]
  }
 ],
 "metadata": {
  "kernelspec": {
   "display_name": "Python 3.9.13 64-bit",
   "language": "python",
   "name": "python3"
  },
  "language_info": {
   "codemirror_mode": {
    "name": "ipython",
    "version": 3
   },
   "file_extension": ".py",
   "mimetype": "text/x-python",
   "name": "python",
   "nbconvert_exporter": "python",
   "pygments_lexer": "ipython3",
   "version": "3.9.13"
  },
  "orig_nbformat": 4,
  "vscode": {
   "interpreter": {
    "hash": "94098c7c54044d210d2d71c8fdd11ca45c2569da116abc8132bcec8757abdf93"
   }
  }
 },
 "nbformat": 4,
 "nbformat_minor": 2
}
